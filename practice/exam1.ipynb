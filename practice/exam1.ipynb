{
 "cells": [
  {
   "cell_type": "code",
   "execution_count": 78,
   "metadata": {},
   "outputs": [
    {
     "name": "stderr",
     "output_type": "stream",
     "text": [
      "d:\\dev\\git\\study\\.venv\\lib\\site-packages\\sklearn\\utils\\deprecation.py:87: FutureWarning: Function load_boston is deprecated; `load_boston` is deprecated in 1.0 and will be removed in 1.2.\n",
      "\n",
      "    The Boston housing prices dataset has an ethical problem. You can refer to\n",
      "    the documentation of this function for further details.\n",
      "\n",
      "    The scikit-learn maintainers therefore strongly discourage the use of this\n",
      "    dataset unless the purpose of the code is to study and educate about\n",
      "    ethical issues in data science and machine learning.\n",
      "\n",
      "    In this special case, you can fetch the dataset from the original\n",
      "    source::\n",
      "\n",
      "        import pandas as pd\n",
      "        import numpy as np\n",
      "\n",
      "\n",
      "        data_url = \"http://lib.stat.cmu.edu/datasets/boston\"\n",
      "        raw_df = pd.read_csv(data_url, sep=\"\\s+\", skiprows=22, header=None)\n",
      "        data = np.hstack([raw_df.values[::2, :], raw_df.values[1::2, :2]])\n",
      "        target = raw_df.values[1::2, 2]\n",
      "\n",
      "    Alternative datasets include the California housing dataset (i.e.\n",
      "    :func:`~sklearn.datasets.fetch_california_housing`) and the Ames housing\n",
      "    dataset. You can load the datasets as follows::\n",
      "\n",
      "        from sklearn.datasets import fetch_california_housing\n",
      "        housing = fetch_california_housing()\n",
      "\n",
      "    for the California housing dataset and::\n",
      "\n",
      "        from sklearn.datasets import fetch_openml\n",
      "        housing = fetch_openml(name=\"house_prices\", as_frame=True)\n",
      "\n",
      "    for the Ames housing dataset.\n",
      "    \n",
      "  warnings.warn(msg, category=FutureWarning)\n"
     ]
    }
   ],
   "source": [
    "from sklearn.datasets import load_boston, load_iris, load_wine, load_diabetes\n",
    "import pandas as pd\n",
    "\n",
    "boston = load_boston()\n",
    "iris = load_iris()\n",
    "wine= load_wine()\n",
    "diabetes = load_diabetes()\n"
   ]
  },
  {
   "cell_type": "code",
   "execution_count": 121,
   "metadata": {},
   "outputs": [
    {
     "name": "stdout",
     "output_type": "stream",
     "text": [
      "        CRIM    ZN  INDUS  CHAS    NOX     RM   AGE     DIS  RAD    TAX  \\\n",
      "0    0.00632  18.0   2.31   0.0  0.538  6.575  65.2  4.0900  1.0  296.0   \n",
      "1    0.02731   0.0   7.07   0.0  0.469  6.421  78.9  4.9671  2.0  242.0   \n",
      "2    0.02729   0.0   7.07   0.0  0.469  7.185  61.1  4.9671  2.0  242.0   \n",
      "3    0.03237   0.0   2.18   0.0  0.458  6.998  45.8  6.0622  3.0  222.0   \n",
      "4    0.06905   0.0   2.18   0.0  0.458  7.147  54.2  6.0622  3.0  222.0   \n",
      "..       ...   ...    ...   ...    ...    ...   ...     ...  ...    ...   \n",
      "501  0.06263   0.0  11.93   0.0  0.573  6.593  69.1  2.4786  1.0  273.0   \n",
      "502  0.04527   0.0  11.93   0.0  0.573  6.120  76.7  2.2875  1.0  273.0   \n",
      "503  0.06076   0.0  11.93   0.0  0.573  6.976  91.0  2.1675  1.0  273.0   \n",
      "504  0.10959   0.0  11.93   0.0  0.573  6.794  89.3  2.3889  1.0  273.0   \n",
      "505  0.04741   0.0  11.93   0.0  0.573  6.030  80.8  2.5050  1.0  273.0   \n",
      "\n",
      "     PTRATIO       B  LSTAT  target  \n",
      "0       15.3  396.90   4.98    24.0  \n",
      "1       17.8  396.90   9.14    21.6  \n",
      "2       17.8  392.83   4.03    34.7  \n",
      "3       18.7  394.63   2.94    33.4  \n",
      "4       18.7  396.90   5.33    36.2  \n",
      "..       ...     ...    ...     ...  \n",
      "501     21.0  391.99   9.67    22.4  \n",
      "502     21.0  396.90   9.08    20.6  \n",
      "503     21.0  396.90   5.64    23.9  \n",
      "504     21.0  393.45   6.48    22.0  \n",
      "505     21.0  396.90   7.88    11.9  \n",
      "\n",
      "[506 rows x 14 columns]\n"
     ]
    }
   ],
   "source": [
    "df = pd.DataFrame(boston.data, columns=boston.feature_names)\n",
    "target = boston.target\n",
    "df['target'] = target\n",
    "\n",
    "print(df)"
   ]
  },
  {
   "cell_type": "code",
   "execution_count": 4,
   "metadata": {},
   "outputs": [],
   "source": [
    "def to_df_dataset(pData) : \n",
    "    df = pd.DataFrame(pData.data, columns=pData.feature_names)\n",
    "    target = pData.target\n",
    "    df['target'] = target\n",
    "    return(df)"
   ]
  },
  {
   "cell_type": "code",
   "execution_count": 109,
   "metadata": {},
   "outputs": [
    {
     "name": "stdout",
     "output_type": "stream",
     "text": [
      "Index(['mpg', 'cyl', 'disp', 'hp', 'drat', 'wt', 'qsec', 'vs', 'am', 'gear',\n",
      "       'carb'],\n",
      "      dtype='object')\n",
      "     mpg  cyl   disp   hp  drat        wt   qsec  vs  am  gear  carb\n",
      "0   21.0    6  160.0  110  3.90  0.283048  16.46   0   1     4     4\n",
      "1   21.0    6  160.0  110  3.90  0.348249  17.02   0   1     4     4\n",
      "2   22.8    4  108.0   93  3.85  0.206341  18.61   1   1     4     1\n",
      "3   21.4    6  258.0  110  3.08  0.435183  19.44   1   0     3     1\n",
      "4   18.7    8  360.0  175  3.15  0.492713  17.02   0   0     3     2\n",
      "5   18.1    6  225.0  105  2.76  0.497827  20.22   1   0     3     1\n",
      "6   14.3    8  360.0  245  3.21  0.525952  15.84   0   0     3     4\n",
      "7   24.4    4  146.7   62  3.69  0.428791  20.00   1   0     4     2\n",
      "8   22.8    4  140.8   95  3.92  0.418563  22.90   1   0     4     2\n",
      "9   19.2    6  167.6  123  3.92  0.492713  18.30   1   0     4     4\n",
      "10  17.8    6  167.6  123  3.92  0.492713  18.90   1   0     4     4\n",
      "11  16.4    8  275.8  180  3.07  0.653797  17.40   0   0     3     3\n",
      "12  17.3    8  275.8  180  3.07  0.566863  17.60   0   0     3     3\n",
      "13  15.2    8  275.8  180  3.07  0.579647  18.00   0   0     3     3\n",
      "14  10.4    8  472.0  205  2.93  0.955510  17.98   0   0     3     4\n",
      "15  10.4    8  460.0  215  3.00  1.000000  17.82   0   0     3     4\n",
      "16  14.7    8  440.0  230  3.23  0.979801  17.42   0   0     3     4\n",
      "17  32.4    4   78.7   66  4.08  0.175658  19.47   1   1     4     1\n",
      "18  30.4    4   75.7   52  4.93  0.026080  18.52   1   1     4     2\n",
      "19  33.9    4   71.1   65  4.22  0.082332  19.90   1   1     4     1\n",
      "20  21.5    4  120.1   97  3.70  0.243416  20.01   1   0     3     1\n",
      "21  15.5    8  318.0  150  2.76  0.513168  16.87   0   0     3     2\n",
      "22  15.2    8  304.0  150  3.15  0.491434  17.30   0   0     3     2\n",
      "23  13.3    8  350.0  245  3.73  0.594988  15.41   0   0     3     4\n",
      "24  19.2    8  400.0  175  3.08  0.596267  17.05   0   0     3     2\n",
      "25  27.3    4   79.0   66  4.08  0.107901  18.90   1   1     4     1\n",
      "26  26.0    4  120.3   91  4.43  0.160317  16.70   0   1     5     2\n",
      "27  30.4    4   95.1  113  3.77  0.000000  16.90   1   1     5     2\n",
      "28  15.8    8  351.0  264  4.22  0.423677  14.50   0   1     5     4\n",
      "29  19.7    6  145.0  175  3.62  0.321401  15.50   0   1     5     6\n",
      "30  15.0    8  301.0  335  3.54  0.525952  14.60   0   1     5     8\n",
      "31  21.4    4  121.0  109  4.11  0.323958  18.60   1   1     4     2\n",
      "갯수 : 11\n",
      "갯수 : 11\n",
      "0     2.620\n",
      "1     2.875\n",
      "2     2.320\n",
      "3     3.215\n",
      "4     3.440\n",
      "5     3.460\n",
      "6     3.570\n",
      "7     3.190\n",
      "8     3.150\n",
      "9     3.440\n",
      "10    3.440\n",
      "11    4.070\n",
      "12    3.730\n",
      "13    3.780\n",
      "14    5.250\n",
      "15    5.424\n",
      "16    5.345\n",
      "17    2.200\n",
      "18    1.615\n",
      "19    1.835\n",
      "20    2.465\n",
      "21    3.520\n",
      "22    3.435\n",
      "23    3.840\n",
      "24    3.845\n",
      "25    1.935\n",
      "26    2.140\n",
      "27    1.513\n",
      "28    3.170\n",
      "29    2.770\n",
      "30    3.570\n",
      "31    2.780\n",
      "Name: wt, dtype: float64\n",
      "0     False\n",
      "1     False\n",
      "2     False\n",
      "3     False\n",
      "4     False\n",
      "5     False\n",
      "6      True\n",
      "7     False\n",
      "8     False\n",
      "9     False\n",
      "10    False\n",
      "11     True\n",
      "12     True\n",
      "13     True\n",
      "14     True\n",
      "15     True\n",
      "16     True\n",
      "17    False\n",
      "18    False\n",
      "19    False\n",
      "20    False\n",
      "21     True\n",
      "22    False\n",
      "23     True\n",
      "24     True\n",
      "25    False\n",
      "26    False\n",
      "27    False\n",
      "28    False\n",
      "29    False\n",
      "30     True\n",
      "31    False\n",
      "Name: wt, dtype: bool\n",
      "     mpg  cyl   disp   hp  drat     wt   qsec  vs  am  gear  carb\n",
      "6   14.3    8  360.0  245  3.21  3.570  15.84   0   0     3     4\n",
      "11  16.4    8  275.8  180  3.07  4.070  17.40   0   0     3     3\n",
      "12  17.3    8  275.8  180  3.07  3.730  17.60   0   0     3     3\n",
      "13  15.2    8  275.8  180  3.07  3.780  18.00   0   0     3     3\n",
      "14  10.4    8  472.0  205  2.93  5.250  17.98   0   0     3     4\n",
      "15  10.4    8  460.0  215  3.00  5.424  17.82   0   0     3     4\n",
      "16  14.7    8  440.0  230  3.23  5.345  17.42   0   0     3     4\n",
      "21  15.5    8  318.0  150  2.76  3.520  16.87   0   0     3     2\n",
      "23  13.3    8  350.0  245  3.73  3.840  15.41   0   0     3     4\n",
      "24  19.2    8  400.0  175  3.08  3.845  17.05   0   0     3     2\n",
      "30  15.0    8  301.0  335  3.54  3.570  14.60   0   1     5     8\n",
      "갯수:  11\n"
     ]
    }
   ],
   "source": [
    "# 다음은 mtcars 데이터 세트다. wt컬럼을 최소 최대 척도로 변환 후 0.5보다 큰 레코드 수를 구하라\n",
    "import pandas as pd\n",
    "from sklearn.preprocessing import MinMaxScaler\n",
    "\n",
    "# solution 1\n",
    "mtcars = pd.read_csv('mtcars.csv')\n",
    "mtcars = mtcars.iloc[:,1:]\n",
    "print(mtcars.columns)\n",
    "\n",
    "scaler = MinMaxScaler()\n",
    "transformed_wt = scaler.fit_transform(mtcars.loc[:,['wt','qsec']])\n",
    "\n",
    "mtcars['wt'] = transformed_wt[:,0] \n",
    "\n",
    "print('갯수 :',sum(mtcars.loc[:,'wt']>0.5))\n",
    "print('갯수 :',len(mtcars[mtcars.loc[:,'wt']>0.5]))\n",
    "\n",
    "# solution 2\n",
    "mtcars = pd.read_csv('mtcars.csv')\n",
    "mtcars = mtcars.iloc[:,1:]\n",
    "\n",
    "wt = mtcars.loc[:, 'wt']\n",
    "wt_min, wt_max = wt.min(), wt.max()\n",
    "res = (wt-wt_min)/(wt_max-wt_min)\n",
    "\n",
    "a = res >= 0.5\n",
    "b = mtcars[a]\n",
    "print('갯수: ', len(b))\n"
   ]
  },
  {
   "cell_type": "code",
   "execution_count": 12,
   "metadata": {},
   "outputs": [
    {
     "name": "stdout",
     "output_type": "stream",
     "text": [
      "        CRIM    ZN  INDUS  CHAS    NOX     RM   AGE     DIS  RAD    TAX  \\\n",
      "0    0.00632  18.0   2.31   0.0  0.538  6.575  65.2  4.0900  1.0  296.0   \n",
      "1    0.02731   0.0   7.07   0.0  0.469  6.421  78.9  4.9671  2.0  242.0   \n",
      "2    0.02729   0.0   7.07   0.0  0.469  7.185  61.1  4.9671  2.0  242.0   \n",
      "3    0.03237   0.0   2.18   0.0  0.458  6.998  45.8  6.0622  3.0  222.0   \n",
      "4    0.06905   0.0   2.18   0.0  0.458  7.147  54.2  6.0622  3.0  222.0   \n",
      "..       ...   ...    ...   ...    ...    ...   ...     ...  ...    ...   \n",
      "501  0.06263   0.0  11.93   0.0  0.573  6.593  69.1  2.4786  1.0  273.0   \n",
      "502  0.04527   0.0  11.93   0.0  0.573  6.120  76.7  2.2875  1.0  273.0   \n",
      "503  0.06076   0.0  11.93   0.0  0.573  6.976  91.0  2.1675  1.0  273.0   \n",
      "504  0.10959   0.0  11.93   0.0  0.573  6.794  89.3  2.3889  1.0  273.0   \n",
      "505  0.04741   0.0  11.93   0.0  0.573  6.030  80.8  2.5050  1.0  273.0   \n",
      "\n",
      "     PTRATIO       B  LSTAT  target  \n",
      "0       15.3  396.90   4.98    24.0  \n",
      "1       17.8  396.90   9.14    21.6  \n",
      "2       17.8  392.83   4.03    34.7  \n",
      "3       18.7  394.63   2.94    33.4  \n",
      "4       18.7  396.90   5.33    36.2  \n",
      "..       ...     ...    ...     ...  \n",
      "501     21.0  391.99   9.67    22.4  \n",
      "502     21.0  396.90   9.08    20.6  \n",
      "503     21.0  396.90   5.64    23.9  \n",
      "504     21.0  393.45   6.48    22.0  \n",
      "505     21.0  396.90   7.88    11.9  \n",
      "\n",
      "[506 rows x 14 columns]\n"
     ]
    }
   ],
   "source": [
    "# 다음은 bostonhousing dateaset이다. 본인 소유 주택가격에서 상위 50개의 데이터에 대해 최솟값으로 변환 후 타운별 1인당 범죄율 값이 1이상인 데이터 구해라\n",
    "import pandas as pd\n",
    "from sklearn.preprocessing import MinMaxScaler\n",
    "\n",
    "boston = to_df_dataset(boston)\n",
    "boston.to_csv('boston.csv', index = False)\n",
    "boston = pd.read_csv('boston.csv')\n",
    "print(boston)"
   ]
  },
  {
   "cell_type": "code",
   "execution_count": 38,
   "metadata": {},
   "outputs": [
    {
     "data": {
      "text/plain": [
       "4.265643"
      ]
     },
     "execution_count": 38,
     "metadata": {},
     "output_type": "execute_result"
    }
   ],
   "source": [
    "sorted_boston = boston.sort_values(['target'], ascending = False)\n",
    "sorted_boston = sorted_boston.iloc[0:50, :]\n",
    "# min(sorted_boston['target'])\n",
    "sorted_boston['target'] = min(sorted_boston['target'])\n",
    "result = (sorted_boston[sorted_boston.loc[:,'CRIM']>=1]).mean()\n",
    "print(result['CRIM'])\n",
    "\n",
    "# boston.columns\n",
    "# boston = boston.loc[:,['CRIM', 'target', ]]"
   ]
  },
  {
   "cell_type": "code",
   "execution_count": 39,
   "metadata": {},
   "outputs": [
    {
     "name": "stdout",
     "output_type": "stream",
     "text": [
      "     sepal length (cm)  sepal width (cm)  petal length (cm)  petal width (cm)  \\\n",
      "0                  5.1               3.5                1.4               0.2   \n",
      "1                  4.9               3.0                1.4               0.2   \n",
      "2                  4.7               3.2                1.3               0.2   \n",
      "3                  4.6               3.1                1.5               0.2   \n",
      "4                  5.0               3.6                1.4               0.2   \n",
      "..                 ...               ...                ...               ...   \n",
      "145                6.7               3.0                5.2               2.3   \n",
      "146                6.3               2.5                5.0               1.9   \n",
      "147                6.5               3.0                5.2               2.0   \n",
      "148                6.2               3.4                5.4               2.3   \n",
      "149                5.9               3.0                5.1               1.8   \n",
      "\n",
      "     target  \n",
      "0         0  \n",
      "1         0  \n",
      "2         0  \n",
      "3         0  \n",
      "4         0  \n",
      "..      ...  \n",
      "145       2  \n",
      "146       2  \n",
      "147       2  \n",
      "148       2  \n",
      "149       2  \n",
      "\n",
      "[150 rows x 5 columns]\n"
     ]
    }
   ],
   "source": [
    "# iris dadtaset이다. 데이터 세트에서 70% 데이터를 샘플링 후 꽃받침 길이의 표준편차를 구해라\n",
    "import pandas as pd\n",
    "from sklearn.preprocessing import MinMaxScaler\n",
    "\n",
    "iris = to_df_dataset(iris)\n",
    "iris.to_csv('iris.csv', index = False)\n",
    "iris = pd.read_csv('iris.csv')\n",
    "print(iris)"
   ]
  },
  {
   "cell_type": "code",
   "execution_count": 76,
   "metadata": {},
   "outputs": [
    {
     "name": "stdout",
     "output_type": "stream",
     "text": [
      "0.8187097863624903\n"
     ]
    }
   ],
   "source": [
    "from sklearn.model_selection import train_test_split\n",
    "import numpy as np\n",
    "iris_x = iris.iloc[:,0:4]\n",
    "iris_y = iris.iloc[:,4]\n",
    "\n",
    "train_x, test_x, train_y, test_y = train_test_split(iris_x, iris_y, test_size =0.3)\n",
    "print(np.std(train_x['sepal length (cm)']))\n",
    "\n"
   ]
  },
  {
   "cell_type": "code",
   "execution_count": 79,
   "metadata": {},
   "outputs": [
    {
     "name": "stdout",
     "output_type": "stream",
     "text": [
      "     sepal length (cm)  sepal width (cm)  petal length (cm)  petal width (cm)  \\\n",
      "0                  5.1               3.5                1.4               0.2   \n",
      "1                  4.9               3.0                1.4               0.2   \n",
      "2                  4.7               3.2                1.3               0.2   \n",
      "3                  4.6               3.1                1.5               0.2   \n",
      "4                  5.0               3.6                1.4               0.2   \n",
      "..                 ...               ...                ...               ...   \n",
      "145                6.7               3.0                5.2               2.3   \n",
      "146                6.3               2.5                5.0               1.9   \n",
      "147                6.5               3.0                5.2               2.0   \n",
      "148                6.2               3.4                5.4               2.3   \n",
      "149                5.9               3.0                5.1               1.8   \n",
      "\n",
      "     target  \n",
      "0         0  \n",
      "1         0  \n",
      "2         0  \n",
      "3         0  \n",
      "4         0  \n",
      "..      ...  \n",
      "145       2  \n",
      "146       2  \n",
      "147       2  \n",
      "148       2  \n",
      "149       2  \n",
      "\n",
      "[150 rows x 5 columns]\n"
     ]
    }
   ],
   "source": [
    "# iris dataset이다. Species rpart, svm 예측모형 만든 후 높은 Acc 값을 가지는 모델의 예측값을 csv파일로 제출\n",
    "import pandas as pd\n",
    "from sklearn.preprocessing import MinMaxScaler\n",
    "\n",
    "iris = to_df_dataset(iris)\n",
    "iris.to_csv('iris.csv', index = False)\n",
    "iris = pd.read_csv('iris.csv')\n",
    "print(iris)"
   ]
  },
  {
   "cell_type": "code",
   "execution_count": 86,
   "metadata": {},
   "outputs": [
    {
     "name": "stdout",
     "output_type": "stream",
     "text": [
      "0.8888888888888888\n",
      "0.9333333333333333\n"
     ]
    }
   ],
   "source": [
    "from sklearn.tree import DecisionTreeClassifier\n",
    "from sklearn.svm import SVC\n",
    "iris_x = iris.iloc[:,0:4]\n",
    "iris_y = iris.iloc[:,4]\n",
    "\n",
    "train_x, test_x, train_y, test_y = train_test_split(iris_x, iris_y, test_size =0.3)\n",
    "\n",
    "model1 = DecisionTreeClassifier()\n",
    "model2 = SVC()\n",
    "\n",
    "model1.fit(train_x, train_y)\n",
    "model2.fit(train_x, train_y)\n",
    "\n",
    "print(model1.score(test_x, test_y))\n",
    "print(model2.score(test_x, test_y))\n"
   ]
  },
  {
   "cell_type": "code",
   "execution_count": 90,
   "metadata": {},
   "outputs": [
    {
     "name": "stdout",
     "output_type": "stream",
     "text": [
      "      0    1    2\n",
      "0   0.0  1.0  0.0\n",
      "1   0.0  1.0  0.0\n",
      "2   0.0  1.0  0.0\n",
      "3   0.0  1.0  0.0\n",
      "4   0.0  0.0  1.0\n",
      "5   0.0  0.0  1.0\n",
      "6   0.0  1.0  0.0\n",
      "7   0.0  0.0  1.0\n",
      "8   1.0  0.0  0.0\n",
      "9   0.0  1.0  0.0\n",
      "10  1.0  0.0  0.0\n",
      "11  0.0  0.0  1.0\n",
      "12  0.0  1.0  0.0\n",
      "13  1.0  0.0  0.0\n",
      "14  0.0  1.0  0.0\n",
      "15  0.0  0.0  1.0\n",
      "16  1.0  0.0  0.0\n",
      "17  0.0  0.0  1.0\n",
      "18  0.0  0.0  1.0\n",
      "19  1.0  0.0  0.0\n",
      "20  1.0  0.0  0.0\n",
      "21  0.0  0.0  1.0\n",
      "22  1.0  0.0  0.0\n",
      "23  0.0  1.0  0.0\n",
      "24  0.0  1.0  0.0\n",
      "25  0.0  0.0  1.0\n",
      "26  1.0  0.0  0.0\n",
      "27  0.0  1.0  0.0\n",
      "28  1.0  0.0  0.0\n",
      "29  0.0  0.0  1.0\n",
      "30  0.0  1.0  0.0\n",
      "31  0.0  1.0  0.0\n",
      "32  0.0  0.0  1.0\n",
      "33  1.0  0.0  0.0\n",
      "34  0.0  0.0  1.0\n",
      "35  0.0  1.0  0.0\n",
      "36  1.0  0.0  0.0\n",
      "37  0.0  0.0  1.0\n",
      "38  0.0  1.0  0.0\n",
      "39  1.0  0.0  0.0\n",
      "40  1.0  0.0  0.0\n",
      "41  1.0  0.0  0.0\n",
      "42  0.0  1.0  0.0\n",
      "43  1.0  0.0  0.0\n",
      "44  0.0  0.0  1.0\n"
     ]
    }
   ],
   "source": [
    "pred2 = model1.predict_proba(test_x)\n",
    "pred2_df = pd.DataFrame(pred2)\n",
    "print(pred2_df)"
   ]
  },
  {
   "cell_type": "code",
   "execution_count": null,
   "metadata": {},
   "outputs": [],
   "source": []
  }
 ],
 "metadata": {
  "interpreter": {
   "hash": "9b76d8b5543f3ddb75ea52b6c23185df9ebd4092dbea640323309f2a935dcb4b"
  },
  "kernelspec": {
   "display_name": "Python 3.8.10 64-bit ('.venv': venv)",
   "language": "python",
   "name": "python3"
  },
  "language_info": {
   "codemirror_mode": {
    "name": "ipython",
    "version": 3
   },
   "file_extension": ".py",
   "mimetype": "text/x-python",
   "name": "python",
   "nbconvert_exporter": "python",
   "pygments_lexer": "ipython3",
   "version": "3.8.10"
  },
  "orig_nbformat": 4
 },
 "nbformat": 4,
 "nbformat_minor": 2
}
