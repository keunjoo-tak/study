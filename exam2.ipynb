{
 "cells": [
  {
   "cell_type": "code",
   "execution_count": 1,
   "metadata": {},
   "outputs": [
    {
     "name": "stdout",
     "output_type": "stream",
     "text": [
      "      cust_id       총구매액     최대구매액       환불금액   주구매상품 주구매지점  내점일수   내점당구매건수  \\\n",
      "0           0   68282840  11264000  6860000.0      기타   강남점    19  3.894737   \n",
      "1           1    2136000   2136000   300000.0     스포츠   잠실점     2  1.500000   \n",
      "2           2    3197000   1639000        NaN  남성 캐주얼   관악점     2  2.000000   \n",
      "3           3   16077620   4935000        NaN      기타   광주점    18  2.444444   \n",
      "4           4   29050000  24000000        NaN      보석  본  점     2  1.500000   \n",
      "...       ...        ...       ...        ...     ...   ...   ...       ...   \n",
      "3495     3495    3175200   3042900        NaN      골프  본  점     1  2.000000   \n",
      "3496     3496   29628600   7200000  6049600.0    시티웨어  부산본점     8  1.625000   \n",
      "3497     3497      75000     75000        NaN    주방용품   창원점     1  1.000000   \n",
      "3498     3498    1875000   1000000        NaN     화장품  본  점     2  1.000000   \n",
      "3499     3499  263101550  34632000  5973000.0      기타  본  점    38  2.421053   \n",
      "\n",
      "        주말방문비율  구매주기  \n",
      "0     0.527027    17  \n",
      "1     0.000000     1  \n",
      "2     0.000000     1  \n",
      "3     0.318182    16  \n",
      "4     0.000000    85  \n",
      "...        ...   ...  \n",
      "3495  1.000000     0  \n",
      "3496  0.461538    40  \n",
      "3497  0.000000     0  \n",
      "3498  0.000000    39  \n",
      "3499  0.467391     8  \n",
      "\n",
      "[3500 rows x 10 columns]\n"
     ]
    }
   ],
   "source": [
    "# 출력을 원하실 경우 print() 함수 활용\n",
    "# 예시) print(df.head())\n",
    "\n",
    "# getcwd(), chdir() 등 작업 폴더 설정 불필요\n",
    "# 파일 경로 상 내부 드라이브 경로(C: 등) 접근 불가\n",
    "\n",
    "# 데이터 파일 읽기 예제\n",
    "import pandas as pd\n",
    "X_test = pd.read_csv(\"X_test.csv\")\n",
    "X_train = pd.read_csv(\"X_train.csv\")\n",
    "Y_train = pd.read_csv(\"Y_train.csv\")\n",
    "\n",
    "# 사용자 코딩\n",
    "print(X_train)\n",
    "# 답안 제출 참고\n",
    "# 아래 코드 예측변수와 수험번호를 개인별로 변경하여 활용\n",
    "# pd.DataFrame({'cust_id': X_test.cust_id, 'gender': pred}).to_csv('003000000.csv', index=False)"
   ]
  },
  {
   "cell_type": "code",
   "execution_count": 3,
   "metadata": {},
   "outputs": [],
   "source": [
    "from sklearn.preprocessing import LabelEncoder\n",
    "from sklearn.impute import SimpleImputer"
   ]
  },
  {
   "cell_type": "code",
   "execution_count": 5,
   "metadata": {},
   "outputs": [
    {
     "name": "stdout",
     "output_type": "stream",
     "text": [
      "      gender\n",
      "0          0\n",
      "1          0\n",
      "2          1\n",
      "3          1\n",
      "4          0\n",
      "...      ...\n",
      "3495       1\n",
      "3496       1\n",
      "3497       0\n",
      "3498       0\n",
      "3499       0\n",
      "\n",
      "[3500 rows x 1 columns]\n"
     ]
    }
   ],
   "source": [
    "X_train = X_train.iloc[:, 1:]\n",
    "X_test_id = X_test.iloc[:, 0]\n",
    "X_test = X_test.iloc[:, 1:]\n",
    "Y_train = Y_train.iloc[:, -1:]\n",
    "print(Y_train)"
   ]
  },
  {
   "cell_type": "code",
   "execution_count": null,
   "metadata": {},
   "outputs": [],
   "source": []
  }
 ],
 "metadata": {
  "interpreter": {
   "hash": "c9843a8ff9d92147003642a7ce9a8384a1e6362b21ef6944692cd8a098a9bdb8"
  },
  "kernelspec": {
   "display_name": "Python 3.8.10 64-bit ('.venv': venv)",
   "language": "python",
   "name": "python3"
  },
  "language_info": {
   "codemirror_mode": {
    "name": "ipython",
    "version": 3
   },
   "file_extension": ".py",
   "mimetype": "text/x-python",
   "name": "python",
   "nbconvert_exporter": "python",
   "pygments_lexer": "ipython3",
   "version": "3.8.10"
  },
  "orig_nbformat": 4
 },
 "nbformat": 4,
 "nbformat_minor": 2
}
